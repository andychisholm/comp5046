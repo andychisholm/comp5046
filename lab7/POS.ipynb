{
 "cells": [
  {
   "cell_type": "code",
   "execution_count": 6,
   "metadata": {
    "collapsed": true
   },
   "outputs": [],
   "source": [
    "from collections import defaultdict"
   ]
  },
  {
   "cell_type": "code",
   "execution_count": 8,
   "metadata": {
    "collapsed": true
   },
   "outputs": [],
   "source": [
    "# load: class \\t feature \\t weight\n",
    "with open('weights.all.tsv') as f:\n",
    "    cfw = [w.strip().split('\\t') for w in f.readlines()]"
   ]
  },
  {
   "cell_type": "code",
   "execution_count": 9,
   "metadata": {
    "collapsed": true
   },
   "outputs": [],
   "source": [
    "fw_by_cls = defaultdict(list)"
   ]
  },
  {
   "cell_type": "code",
   "execution_count": 23,
   "metadata": {
    "collapsed": false
   },
   "outputs": [],
   "source": [
    "fw_by_cls = defaultdict(list)\n",
    "for cls, feature, weight in cfw:\n",
    "    fw_by_cls[cls].append((feature, float(weight)))"
   ]
  },
  {
   "cell_type": "markdown",
   "metadata": {},
   "source": [
    "## Strongest positive features"
   ]
  },
  {
   "cell_type": "code",
   "execution_count": 26,
   "metadata": {
    "collapsed": false
   },
   "outputs": [
    {
     "data": {
      "text/plain": [
       "[('w %', 6.83527),\n",
       " ('w company', 5.81501),\n",
       " ('w yesterday', 5.51002),\n",
       " ('w market', 5.39725),\n",
       " ('w stock', 5.23349),\n",
       " ('w business', 5.21648),\n",
       " ('w year', 5.17105),\n",
       " ('w government', 5.13508),\n",
       " ('w today', 5.0635),\n",
       " ('w time', 4.90931)]"
      ]
     },
     "execution_count": 26,
     "metadata": {},
     "output_type": "execute_result"
    }
   ],
   "source": [
    "sorted(fw_by_cls['NN'], key=lambda (f, w): w, reverse=True)[:10]"
   ]
  },
  {
   "cell_type": "markdown",
   "metadata": {},
   "source": [
    "## Strongest negative features"
   ]
  },
  {
   "cell_type": "code",
   "execution_count": 27,
   "metadata": {
    "collapsed": false
   },
   "outputs": [
    {
     "data": {
      "text/plain": [
       "[('suff de', -1.78544),\n",
       " ('ppw Mr.', -1.70919),\n",
       " ('pw few', -1.54175),\n",
       " ('w Japanese', -1.52423),\n",
       " ('pw those', -1.45821),\n",
       " ('w earlier', -1.42175),\n",
       " ('nnw whom', -1.35597),\n",
       " ('w out', -1.31003),\n",
       " ('nw $', -1.27565),\n",
       " ('pw be', -1.26707)]"
      ]
     },
     "execution_count": 27,
     "metadata": {},
     "output_type": "execute_result"
    }
   ],
   "source": [
    "sorted(fw_by_cls['NN'], key=lambda (f, w): w)[:10]"
   ]
  },
  {
   "cell_type": "code",
   "execution_count": null,
   "metadata": {
    "collapsed": true
   },
   "outputs": [],
   "source": []
  }
 ],
 "metadata": {
  "kernelspec": {
   "display_name": "Python 2",
   "language": "python",
   "name": "python2"
  },
  "language_info": {
   "codemirror_mode": {
    "name": "ipython",
    "version": 2
   },
   "file_extension": ".py",
   "mimetype": "text/x-python",
   "name": "python",
   "nbconvert_exporter": "python",
   "pygments_lexer": "ipython2",
   "version": "2.7.9"
  }
 },
 "nbformat": 4,
 "nbformat_minor": 0
}
