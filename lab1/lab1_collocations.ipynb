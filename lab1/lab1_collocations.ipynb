{
 "cells": [
  {
   "cell_type": "code",
   "execution_count": 1,
   "metadata": {
    "collapsed": true
   },
   "outputs": [],
   "source": [
    "from string import punctuation\n",
    "from math import sqrt\n",
    "from collections import Counter"
   ]
  },
  {
   "cell_type": "markdown",
   "metadata": {},
   "source": [
    "### Load the text"
   ]
  },
  {
   "cell_type": "code",
   "execution_count": 2,
   "metadata": {
    "collapsed": true
   },
   "outputs": [],
   "source": [
    "text = open('data/pandp12.txt', 'rU').read()"
   ]
  },
  {
   "cell_type": "code",
   "execution_count": 3,
   "metadata": {
    "collapsed": false
   },
   "outputs": [
    {
     "data": {
      "text/plain": [
       "'The Project Gutenberg EBook of Pride and Prejudice, by Jane Austen\\n(#8 in our series by Jane Austen)\\n\\nCopyright laws are changing all over the world. Be sure to check the\\ncopyright laws for your country before downloading or redistributing\\nthis or an'"
      ]
     },
     "execution_count": 3,
     "metadata": {},
     "output_type": "execute_result"
    }
   ],
   "source": [
    "text[:250]"
   ]
  },
  {
   "cell_type": "markdown",
   "metadata": {},
   "source": [
    "### Clean it up a bit"
   ]
  },
  {
   "cell_type": "code",
   "execution_count": 4,
   "metadata": {
    "collapsed": true
   },
   "outputs": [],
   "source": [
    "# replace emdash \"--\" with spaces to separate words\n",
    "# add space before possessive \"'s\" to match Penn Treebank tokenization\n",
    "text = text.replace('--', ' ').replace(\"'s\", \" 's\").lower()"
   ]
  },
  {
   "cell_type": "code",
   "execution_count": 5,
   "metadata": {
    "collapsed": false
   },
   "outputs": [
    {
     "data": {
      "text/plain": [
       "'the project gutenberg ebook of pride and prejudice, by jane austen\\n(#8 in our series by jane austen)\\n\\ncopyright laws are changing all over the world. be sure to check the\\ncopyright laws for your country before downloading or redistributing\\nthis or an'"
      ]
     },
     "execution_count": 5,
     "metadata": {},
     "output_type": "execute_result"
    }
   ],
   "source": [
    "text[:250]"
   ]
  },
  {
   "cell_type": "code",
   "execution_count": 21,
   "metadata": {
    "collapsed": false
   },
   "outputs": [
    {
     "data": {
      "text/plain": [
       "'!\"#$%&\\'()*+,-./:;<=>?@[\\\\]^_`{|}~'"
      ]
     },
     "execution_count": 21,
     "metadata": {},
     "output_type": "execute_result"
    }
   ],
   "source": [
    "punctuation"
   ]
  },
  {
   "cell_type": "code",
   "execution_count": 20,
   "metadata": {
    "collapsed": false
   },
   "outputs": [
    {
     "name": "stdout",
     "output_type": "stream",
     "text": [
      "the\n",
      "project\n",
      "gutenberg\n",
      "ebook\n",
      "of\n",
      "pride\n",
      "and\n",
      "prejudice\n",
      "by\n",
      "jane\n",
      "austen\n",
      "8\n",
      "in\n",
      "our\n",
      "series\n",
      "by\n",
      "jane\n",
      "austen\n",
      "copyright\n",
      "laws\n",
      "are\n",
      "changing\n",
      "all\n",
      "over\n",
      "the\n",
      "world\n",
      "be\n",
      "sure\n",
      "to\n",
      "check\n",
      "the\n",
      "copyright\n",
      "laws\n",
      "for\n",
      "your\n",
      "country\n",
      "before\n",
      "downloading\n",
      "or\n",
      "redistributing\n",
      "this\n",
      "or\n",
      "an\n"
     ]
    }
   ],
   "source": [
    "for w in text[:250].split():\n",
    "    print w.strip(punctuation)"
   ]
  },
  {
   "cell_type": "markdown",
   "metadata": {},
   "source": [
    "### Tokenize the text into words"
   ]
  },
  {
   "cell_type": "code",
   "execution_count": 22,
   "metadata": {
    "collapsed": true
   },
   "outputs": [],
   "source": [
    "# split words, strip punctuation, and remove empty strings\n",
    "words = [w.strip(punctuation) for w in text.split()]"
   ]
  },
  {
   "cell_type": "code",
   "execution_count": 7,
   "metadata": {
    "collapsed": false
   },
   "outputs": [
    {
     "data": {
      "text/plain": [
       "['the',\n",
       " 'project',\n",
       " 'gutenberg',\n",
       " 'ebook',\n",
       " 'of',\n",
       " 'pride',\n",
       " 'and',\n",
       " 'prejudice',\n",
       " 'by',\n",
       " 'jane']"
      ]
     },
     "execution_count": 7,
     "metadata": {},
     "output_type": "execute_result"
    }
   ],
   "source": [
    "words[:10]"
   ]
  },
  {
   "cell_type": "code",
   "execution_count": 8,
   "metadata": {
    "collapsed": false
   },
   "outputs": [],
   "source": [
    "word_counts = Counter(words)"
   ]
  },
  {
   "cell_type": "code",
   "execution_count": 9,
   "metadata": {
    "collapsed": false
   },
   "outputs": [
    {
     "data": {
      "text/plain": [
       "[('the', 4421),\n",
       " ('to', 4208),\n",
       " ('of', 3669),\n",
       " ('and', 3627),\n",
       " ('her', 2227),\n",
       " ('i', 2068),\n",
       " ('a', 1980),\n",
       " ('in', 1891),\n",
       " ('was', 1847),\n",
       " ('she', 1710)]"
      ]
     },
     "execution_count": 9,
     "metadata": {},
     "output_type": "execute_result"
    }
   ],
   "source": [
    "sorted(word_counts.iteritems(), key=lambda (word, count): count, reverse=True)[:10]"
   ]
  },
  {
   "cell_type": "code",
   "execution_count": 23,
   "metadata": {
    "collapsed": true
   },
   "outputs": [],
   "source": [
    "bigrams = zip(words, words[1:])[:50]"
   ]
  },
  {
   "cell_type": "code",
   "execution_count": 25,
   "metadata": {
    "collapsed": false
   },
   "outputs": [
    {
     "data": {
      "text/plain": [
       "'the project gutenberg ebook of pride and prejudice, by jane austen\\n(#8 in our series by jane austen)\\n\\ncopyright laws are changing all over the world. be sure to check the\\ncopyright laws for your country before downloading or redistributing\\nthis or an'"
      ]
     },
     "execution_count": 25,
     "metadata": {},
     "output_type": "execute_result"
    }
   ],
   "source": [
    "text[:250]"
   ]
  },
  {
   "cell_type": "code",
   "execution_count": 24,
   "metadata": {
    "collapsed": false
   },
   "outputs": [
    {
     "data": {
      "text/plain": [
       "[('the', 'project'),\n",
       " ('project', 'gutenberg'),\n",
       " ('gutenberg', 'ebook'),\n",
       " ('ebook', 'of'),\n",
       " ('of', 'pride'),\n",
       " ('pride', 'and'),\n",
       " ('and', 'prejudice'),\n",
       " ('prejudice', 'by'),\n",
       " ('by', 'jane'),\n",
       " ('jane', 'austen'),\n",
       " ('austen', '8'),\n",
       " ('8', 'in'),\n",
       " ('in', 'our'),\n",
       " ('our', 'series'),\n",
       " ('series', 'by'),\n",
       " ('by', 'jane'),\n",
       " ('jane', 'austen'),\n",
       " ('austen', 'copyright'),\n",
       " ('copyright', 'laws'),\n",
       " ('laws', 'are'),\n",
       " ('are', 'changing'),\n",
       " ('changing', 'all'),\n",
       " ('all', 'over'),\n",
       " ('over', 'the'),\n",
       " ('the', 'world'),\n",
       " ('world', 'be'),\n",
       " ('be', 'sure'),\n",
       " ('sure', 'to'),\n",
       " ('to', 'check'),\n",
       " ('check', 'the'),\n",
       " ('the', 'copyright'),\n",
       " ('copyright', 'laws'),\n",
       " ('laws', 'for'),\n",
       " ('for', 'your'),\n",
       " ('your', 'country'),\n",
       " ('country', 'before'),\n",
       " ('before', 'downloading'),\n",
       " ('downloading', 'or'),\n",
       " ('or', 'redistributing'),\n",
       " ('redistributing', 'this'),\n",
       " ('this', 'or'),\n",
       " ('or', 'any'),\n",
       " ('any', 'other'),\n",
       " ('other', 'project'),\n",
       " ('project', 'gutenberg'),\n",
       " ('gutenberg', 'ebook'),\n",
       " ('ebook', 'this'),\n",
       " ('this', 'header'),\n",
       " ('header', 'should'),\n",
       " ('should', 'be')]"
      ]
     },
     "execution_count": 24,
     "metadata": {},
     "output_type": "execute_result"
    }
   ],
   "source": [
    "bigrams"
   ]
  },
  {
   "cell_type": "code",
   "execution_count": 10,
   "metadata": {
    "collapsed": true
   },
   "outputs": [],
   "source": [
    "\n",
    "bigram_counts = Counter(bigrams)"
   ]
  },
  {
   "cell_type": "code",
   "execution_count": 26,
   "metadata": {
    "collapsed": false
   },
   "outputs": [
    {
     "data": {
      "text/plain": [
       "[(('of', 'the'), 481),\n",
       " (('to', 'be'), 443),\n",
       " (('in', 'the'), 387),\n",
       " (('i', 'am'), 303),\n",
       " (('mr', 'darcy'), 273),\n",
       " (('of', 'her'), 263),\n",
       " (('to', 'the'), 260),\n",
       " (('it', 'was'), 251),\n",
       " (('of', 'his'), 235),\n",
       " (('she', 'was'), 212)]"
      ]
     },
     "execution_count": 26,
     "metadata": {},
     "output_type": "execute_result"
    }
   ],
   "source": [
    "sorted(bigram_counts.iteritems(), key=lambda (word, count): count, reverse=True)[:10]"
   ]
  },
  {
   "cell_type": "code",
   "execution_count": null,
   "metadata": {
    "collapsed": true
   },
   "outputs": [],
   "source": [
    "# TODO: top 100 most frequent words"
   ]
  },
  {
   "cell_type": "code",
   "execution_count": 12,
   "metadata": {
    "collapsed": true
   },
   "outputs": [],
   "source": [
    "def t_test(c1, c2, c12, N):\n",
    "    N = float(N)\n",
    "    p1 = c1 / N\n",
    "    p2 = c2 / N\n",
    "    p12 = c12 / N\n",
    "    return (p12 - p1 * p2) / sqrt(p12 / N)"
   ]
  },
  {
   "cell_type": "code",
   "execution_count": 14,
   "metadata": {
    "collapsed": false
   },
   "outputs": [],
   "source": [
    "nwords = len(words)\n",
    "unigrams = Counter(words)\n",
    "bigrams = Counter(zip(words, words[1:]))\n",
    "\n",
    "for w1, w2 in bigrams:\n",
    "    bigrams[w1, w2] = t_test(unigrams[w1], unigrams[w2], bigrams[w1, w2], nwords)"
   ]
  },
  {
   "cell_type": "code",
   "execution_count": 15,
   "metadata": {
    "collapsed": false
   },
   "outputs": [
    {
     "data": {
      "text/plain": [
       "[(('to', 'be'), 19.0264392287896),\n",
       " (('i', 'am'), 17.10521371395349),\n",
       " (('mr', 'darcy'), 16.363425622278),\n",
       " (('in', 'the'), 16.268102644685825),\n",
       " (('of', 'the'), 16.007155720962686),\n",
       " (('it', 'was'), 14.390799075237354),\n",
       " (('had', 'been'), 13.797458735403026),\n",
       " (('she', 'had'), 13.1917759293514),\n",
       " (('it', 'is'), 13.101618826588656),\n",
       " (('of', 'his'), 12.892911957502116),\n",
       " (('she', 'was'), 12.822598081459958),\n",
       " (('i', 'have'), 12.683147729522101),\n",
       " (('could', 'not'), 12.45202803287958),\n",
       " (('mrs', 'bennet'), 12.297568664899833),\n",
       " (('of', 'her'), 12.181283546068963),\n",
       " (('mr', 'collins'), 12.154912957988389),\n",
       " (('that', 'he'), 12.0257680592388),\n",
       " (('he', 'had'), 11.947387253999926),\n",
       " (('such', 'a'), 11.522630179552497),\n",
       " (('have', 'been'), 11.315621429018746)]"
      ]
     },
     "execution_count": 15,
     "metadata": {},
     "output_type": "execute_result"
    }
   ],
   "source": [
    "sorted(bigrams.iteritems(), key=lambda (k, v): v, reverse=True)[:20]"
   ]
  },
  {
   "cell_type": "code",
   "execution_count": null,
   "metadata": {
    "collapsed": false
   },
   "outputs": [],
   "source": [
    "sorted(bigram_counts.iteritems(), key=lambda (word, count): count, reverse=True)[:50]"
   ]
  },
  {
   "cell_type": "code",
   "execution_count": null,
   "metadata": {
    "collapsed": true
   },
   "outputs": [],
   "source": []
  }
 ],
 "metadata": {
  "kernelspec": {
   "display_name": "Python 2",
   "language": "python",
   "name": "python2"
  },
  "language_info": {
   "codemirror_mode": {
    "name": "ipython",
    "version": 2
   },
   "file_extension": ".py",
   "mimetype": "text/x-python",
   "name": "python",
   "nbconvert_exporter": "python",
   "pygments_lexer": "ipython2",
   "version": "2.7.9"
  }
 },
 "nbformat": 4,
 "nbformat_minor": 0
}
