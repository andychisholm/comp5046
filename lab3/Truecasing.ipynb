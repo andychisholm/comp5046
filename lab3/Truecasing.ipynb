{
 "cells": [
  {
   "cell_type": "code",
   "execution_count": 1,
   "metadata": {
    "collapsed": true
   },
   "outputs": [],
   "source": [
    "import re\n",
    "from itertools import izip"
   ]
  },
  {
   "cell_type": "markdown",
   "metadata": {},
   "source": [
    "## Load the corpus and create train and test splits"
   ]
  },
  {
   "cell_type": "code",
   "execution_count": 2,
   "metadata": {
    "collapsed": true
   },
   "outputs": [],
   "source": [
    "with open('pandp12.txt', 'r') as f:\n",
    "    text = f.read()[1355:]\n",
    "split_idx = len(text)/2\n",
    "train_Y = text[:split_idx]\n",
    "test_Y = text[split_idx:]"
   ]
  },
  {
   "cell_type": "code",
   "execution_count": 3,
   "metadata": {
    "collapsed": false
   },
   "outputs": [],
   "source": [
    "train_X = train_Y.lower()\n",
    "test_X = test_Y.lower()"
   ]
  },
  {
   "cell_type": "code",
   "execution_count": 4,
   "metadata": {
    "collapsed": false
   },
   "outputs": [
    {
     "name": "stdout",
     "output_type": "stream",
     "text": [
      "it is a truth universally acknowledged, that a single man in\r\n",
      "possession of a good fortune, must be in want of a wife.\r\n",
      "\r\n",
      "however little known the fee\n"
     ]
    }
   ],
   "source": [
    "print train_X[:150]"
   ]
  },
  {
   "cell_type": "code",
   "execution_count": 5,
   "metadata": {
    "collapsed": false
   },
   "outputs": [
    {
     "name": "stdout",
     "output_type": "stream",
     "text": [
      "It is a truth universally acknowledged, that a single man in\r\n",
      "possession of a good fortune, must be in want of a wife.\r\n",
      "\r\n",
      "However little known the fee\n"
     ]
    }
   ],
   "source": [
    "print train_Y[:150]"
   ]
  },
  {
   "cell_type": "markdown",
   "metadata": {},
   "source": [
    "## Measure progress using character level accuracy"
   ]
  },
  {
   "cell_type": "code",
   "execution_count": 6,
   "metadata": {
    "collapsed": true
   },
   "outputs": [],
   "source": [
    "def evaluate(x, y):\n",
    "    assert len(x) == len(y)\n",
    "    errors = 0\n",
    "    for a, b in izip(x, y):\n",
    "        if a != b:\n",
    "            errors += 1\n",
    "    return errors"
   ]
  },
  {
   "cell_type": "markdown",
   "metadata": {},
   "source": [
    "## Baseline = do nothing"
   ]
  },
  {
   "cell_type": "code",
   "execution_count": 7,
   "metadata": {
    "collapsed": false
   },
   "outputs": [
    {
     "data": {
      "text/plain": [
       "6749"
      ]
     },
     "execution_count": 7,
     "metadata": {},
     "output_type": "execute_result"
    }
   ],
   "source": [
    "evaluate(train_X, train_Y)"
   ]
  },
  {
   "cell_type": "code",
   "execution_count": 8,
   "metadata": {
    "collapsed": false
   },
   "outputs": [
    {
     "data": {
      "text/plain": [
       "0.018852639900331578"
      ]
     },
     "execution_count": 8,
     "metadata": {},
     "output_type": "execute_result"
    }
   ],
   "source": [
    "evaluate(train_X, train_Y) / float(len(train_X))"
   ]
  },
  {
   "cell_type": "markdown",
   "metadata": {},
   "source": [
    "## Capitalize start of sentences"
   ]
  },
  {
   "cell_type": "code",
   "execution_count": 9,
   "metadata": {
    "collapsed": false
   },
   "outputs": [],
   "source": [
    "system = train_X\n",
    "system = re.sub(r'(\\. [a-z])', lambda s: s.group().upper(), system)"
   ]
  },
  {
   "cell_type": "code",
   "execution_count": 10,
   "metadata": {
    "collapsed": false
   },
   "outputs": [
    {
     "data": {
      "text/plain": [
       "'it is a truth universally acknowledged, that a single man in\\r\\npossession of a good fortune, must be '"
      ]
     },
     "execution_count": 10,
     "metadata": {},
     "output_type": "execute_result"
    }
   ],
   "source": [
    "system[:100]"
   ]
  },
  {
   "cell_type": "code",
   "execution_count": 11,
   "metadata": {
    "collapsed": false
   },
   "outputs": [
    {
     "data": {
      "text/plain": [
       "'it is a truth universally acknowledged, that a single man in\\r\\npossession of a good fortune, must be '"
      ]
     },
     "execution_count": 11,
     "metadata": {},
     "output_type": "execute_result"
    }
   ],
   "source": [
    "train_X[:100]"
   ]
  },
  {
   "cell_type": "code",
   "execution_count": 12,
   "metadata": {
    "collapsed": false
   },
   "outputs": [
    {
     "data": {
      "text/plain": [
       "6104"
      ]
     },
     "execution_count": 12,
     "metadata": {},
     "output_type": "execute_result"
    }
   ],
   "source": [
    "evaluate(system, train_Y)"
   ]
  },
  {
   "cell_type": "markdown",
   "metadata": {},
   "source": [
    "## Capitalize start of new lines"
   ]
  },
  {
   "cell_type": "code",
   "execution_count": 13,
   "metadata": {
    "collapsed": true
   },
   "outputs": [],
   "source": [
    "system = train_X\n",
    "system = re.sub(r'(\\. [a-z])', lambda s: s.group().upper(), system)\n",
    "system = re.sub(r'((\\r\\n)+[a-z])', lambda s: s.group().upper(), system)"
   ]
  },
  {
   "cell_type": "code",
   "execution_count": 14,
   "metadata": {
    "collapsed": false
   },
   "outputs": [
    {
     "data": {
      "text/plain": [
       "9666"
      ]
     },
     "execution_count": 14,
     "metadata": {},
     "output_type": "execute_result"
    }
   ],
   "source": [
    "evaluate(system, train_Y)"
   ]
  },
  {
   "cell_type": "code",
   "execution_count": 15,
   "metadata": {
    "collapsed": false
   },
   "outputs": [
    {
     "data": {
      "text/plain": [
       "'it is a truth universally acknowledged, that a single man in\\r\\nPossession of a good fortune, must be '"
      ]
     },
     "execution_count": 15,
     "metadata": {},
     "output_type": "execute_result"
    }
   ],
   "source": [
    "system[:100]"
   ]
  },
  {
   "cell_type": "code",
   "execution_count": 16,
   "metadata": {
    "collapsed": false
   },
   "outputs": [
    {
     "data": {
      "text/plain": [
       "'It is a truth universally acknowledged, that a single man in\\r\\npossession of a good fortune, must be '"
      ]
     },
     "execution_count": 16,
     "metadata": {},
     "output_type": "execute_result"
    }
   ],
   "source": [
    "train_Y[:100]"
   ]
  },
  {
   "cell_type": "code",
   "execution_count": 17,
   "metadata": {
    "collapsed": true
   },
   "outputs": [],
   "source": [
    "# We actually need to find multiple line breaks"
   ]
  },
  {
   "cell_type": "code",
   "execution_count": 18,
   "metadata": {
    "collapsed": true
   },
   "outputs": [],
   "source": [
    "system = train_X\n",
    "system = re.sub(r'(\\. [a-z])', lambda s: s.group().upper(), system)\n",
    "system = re.sub(r'((\\r\\n)(\\r\\n)+[a-z])', lambda s: s.group().upper(), system)"
   ]
  },
  {
   "cell_type": "code",
   "execution_count": 19,
   "metadata": {
    "collapsed": false
   },
   "outputs": [
    {
     "data": {
      "text/plain": [
       "5693"
      ]
     },
     "execution_count": 19,
     "metadata": {},
     "output_type": "execute_result"
    }
   ],
   "source": [
    "evaluate(system, train_Y)"
   ]
  },
  {
   "cell_type": "markdown",
   "metadata": {},
   "source": [
    "## Find person names"
   ]
  },
  {
   "cell_type": "code",
   "execution_count": 20,
   "metadata": {
    "collapsed": true
   },
   "outputs": [],
   "source": [
    "from collections import Counter"
   ]
  },
  {
   "cell_type": "code",
   "execution_count": 21,
   "metadata": {
    "collapsed": false
   },
   "outputs": [],
   "source": [
    "upper_counts = Counter([t for t in train_Y.split() if t[0].isupper()])\n",
    "lower_counts = Counter([t for t in train_Y.split() if t[0].islower()])"
   ]
  },
  {
   "cell_type": "code",
   "execution_count": 22,
   "metadata": {
    "collapsed": false
   },
   "outputs": [
    {
     "data": {
      "text/plain": [
       "[('I', 869),\n",
       " ('Mr.', 512),\n",
       " ('Elizabeth', 210),\n",
       " ('Miss', 184),\n",
       " ('Mrs.', 174),\n",
       " ('She', 144),\n",
       " ('The', 139),\n",
       " ('Darcy', 118),\n",
       " ('But', 106),\n",
       " ('Bingley', 106)]"
      ]
     },
     "execution_count": 22,
     "metadata": {},
     "output_type": "execute_result"
    }
   ],
   "source": [
    "sorted(upper_counts.iteritems(), key=lambda (k, v): v, reverse=True)[:10]"
   ]
  },
  {
   "cell_type": "code",
   "execution_count": 23,
   "metadata": {
    "collapsed": false
   },
   "outputs": [],
   "source": [
    "gazeteer = []\n",
    "for word, count in upper_counts.iteritems():\n",
    "    if count > 1 and lower_counts[word.lower()] == 0:\n",
    "        gazeteer.append(word)"
   ]
  },
  {
   "cell_type": "code",
   "execution_count": 24,
   "metadata": {
    "collapsed": false
   },
   "outputs": [
    {
     "data": {
      "text/plain": [
       "['Darcy!',\n",
       " 'Hunsford,',\n",
       " 'Darcy,',\n",
       " 'Darcy.',\n",
       " 'Phillips,',\n",
       " 'Darcy;',\n",
       " 'Tuesday,',\n",
       " 'Mrs.',\n",
       " \"Elizabeth's\",\n",
       " 'Charlotte',\n",
       " 'Wickham;',\n",
       " \"Darcy's\",\n",
       " 'Wickham,',\n",
       " \"James's\",\n",
       " 'Wickham.',\n",
       " 'Jane',\n",
       " 'Collins',\n",
       " \"Lydia's\",\n",
       " \"Maria's\",\n",
       " 'Darcy,\"',\n",
       " 'Jane,\"',\n",
       " 'Hertfordshire;',\n",
       " 'Collins.',\n",
       " 'Jane;',\n",
       " 'Hertfordshire,',\n",
       " 'Hertfordshire.',\n",
       " 'Collins,',\n",
       " 'Lizzy',\n",
       " 'Jane,',\n",
       " 'Jane.',\n",
       " 'Bingley,\"',\n",
       " 'St.',\n",
       " 'Pemberley',\n",
       " 'Eliza,',\n",
       " 'Monday,',\n",
       " 'Maria,',\n",
       " 'Kitty,',\n",
       " 'Mr.',\n",
       " 'Christmas',\n",
       " 'Lucas',\n",
       " 'Collins,\"',\n",
       " \"Collins's\",\n",
       " 'England;',\n",
       " 'Fitzwilliam',\n",
       " 'Phillips',\n",
       " \"Fitzwilliam's\",\n",
       " \"Bourgh's\",\n",
       " 'Caroline,',\n",
       " 'Lodge,',\n",
       " 'Eliza',\n",
       " 'Saturday',\n",
       " 'Caroline',\n",
       " 'Elizabeth',\n",
       " 'Eliza.\"',\n",
       " 'William',\n",
       " 'Bennet,\"',\n",
       " 'Jenkinson',\n",
       " 'Lucases',\n",
       " 'Charles,',\n",
       " \"Caroline's\",\n",
       " 'George',\n",
       " 'Fitzwilliam,',\n",
       " \"Bennet's\",\n",
       " 'Jenkinson,',\n",
       " 'Charlotte.',\n",
       " 'Charlotte,',\n",
       " 'Elizabeth.',\n",
       " 'Elizabeth,',\n",
       " 'Monday',\n",
       " 'Elizabeth;',\n",
       " 'Saturday.',\n",
       " 'Saturday,',\n",
       " 'Hurst',\n",
       " \"Catherine's\",\n",
       " 'Gardiners',\n",
       " 'Bourgh',\n",
       " 'Bingley;',\n",
       " 'Bingley,',\n",
       " 'Bingley.',\n",
       " 'Jones',\n",
       " 'William,',\n",
       " 'Gardiner,',\n",
       " 'Tease',\n",
       " \"James's.\",\n",
       " 'Lewis',\n",
       " 'Bingley?\"',\n",
       " 'Lizzy,\"',\n",
       " 'Bingleys',\n",
       " 'Lydia,',\n",
       " 'Lydia.',\n",
       " 'London,',\n",
       " 'London.',\n",
       " 'Kent',\n",
       " 'Anne',\n",
       " 'Mary,',\n",
       " 'Rosings',\n",
       " 'Darcy.\"',\n",
       " 'Colonel',\n",
       " 'Meryton;',\n",
       " 'Meryton,',\n",
       " 'Netherfield',\n",
       " 'Meryton.',\n",
       " 'I,\"',\n",
       " 'Rosings;',\n",
       " 'Wickham',\n",
       " 'Rosings,',\n",
       " 'Rosings.',\n",
       " 'Longbourn.',\n",
       " 'Longbourn,',\n",
       " \"Lucas's\",\n",
       " 'Bennet?\"',\n",
       " 'Gardiner',\n",
       " 'Hunsford',\n",
       " 'Scotch',\n",
       " 'Lucas.',\n",
       " 'Collins;',\n",
       " 'Lucas,',\n",
       " 'Gracechurch',\n",
       " \"Bingley's\",\n",
       " 'Hunsford.\"',\n",
       " 'I,',\n",
       " 'Darcy!\"',\n",
       " 'I',\n",
       " 'Carter',\n",
       " \"Jane's\",\n",
       " \"Gardiner's\",\n",
       " 'Bourgh,',\n",
       " 'Bourgh.',\n",
       " 'Georgiana',\n",
       " 'Sunday',\n",
       " 'Netherfield.',\n",
       " 'Netherfield,',\n",
       " 'Meryton.\"',\n",
       " 'Fitzwilliam.',\n",
       " 'Lizzy?\"',\n",
       " 'Oh!',\n",
       " 'Lord!',\n",
       " 'Hertfordshire',\n",
       " 'Lizzy;',\n",
       " 'Darcy',\n",
       " 'Denny',\n",
       " 'Lizzy,',\n",
       " 'Lizzy.',\n",
       " 'Forster',\n",
       " 'Darcy?\"',\n",
       " 'London',\n",
       " 'Hurst,',\n",
       " 'Kitty',\n",
       " 'Parsonage.',\n",
       " 'Mary',\n",
       " 'Hunsford.',\n",
       " 'Derbyshire.\"',\n",
       " 'Chapter',\n",
       " 'Bingley',\n",
       " 'Parsonage',\n",
       " 'Catherine',\n",
       " 'Captain',\n",
       " 'Yes,',\n",
       " 'Grosvenor',\n",
       " 'Bennet',\n",
       " 'Sunday,',\n",
       " 'Bennet;',\n",
       " 'Bennet.',\n",
       " 'Bennet,',\n",
       " 'Lydia',\n",
       " \"Wickham's\",\n",
       " 'Derbyshire',\n",
       " \"Charlotte's\",\n",
       " 'Bennets',\n",
       " 'Meryton',\n",
       " \"Phillips's\",\n",
       " 'Sir',\n",
       " 'Louisa',\n",
       " 'Pemberley,',\n",
       " 'Lucases,',\n",
       " \"William's\",\n",
       " 'Maria',\n",
       " 'Catherine,',\n",
       " 'Catherine.',\n",
       " 'Lizzy.\"',\n",
       " 'Charles',\n",
       " 'Longbourn']"
      ]
     },
     "execution_count": 24,
     "metadata": {},
     "output_type": "execute_result"
    }
   ],
   "source": [
    "gazeteer"
   ]
  },
  {
   "cell_type": "code",
   "execution_count": 25,
   "metadata": {
    "collapsed": true
   },
   "outputs": [],
   "source": [
    "system = train_X\n",
    "for word in gazeteer:\n",
    "    system = system.replace(' ' + word.lower() + ' ', ' ' + word[0].upper() + word[1:] + ' ')"
   ]
  },
  {
   "cell_type": "code",
   "execution_count": 26,
   "metadata": {
    "collapsed": false
   },
   "outputs": [
    {
     "data": {
      "text/plain": [
       "3715"
      ]
     },
     "execution_count": 26,
     "metadata": {},
     "output_type": "execute_result"
    }
   ],
   "source": [
    "evaluate(system, train_Y)"
   ]
  },
  {
   "cell_type": "markdown",
   "metadata": {},
   "source": [
    "## How well do we generalize?"
   ]
  },
  {
   "cell_type": "code",
   "execution_count": 27,
   "metadata": {
    "collapsed": false
   },
   "outputs": [
    {
     "data": {
      "text/plain": [
       "7343"
      ]
     },
     "execution_count": 27,
     "metadata": {},
     "output_type": "execute_result"
    }
   ],
   "source": [
    "evaluate(test_X, test_Y)"
   ]
  },
  {
   "cell_type": "code",
   "execution_count": 28,
   "metadata": {
    "collapsed": false
   },
   "outputs": [
    {
     "data": {
      "text/plain": [
       "4999"
      ]
     },
     "execution_count": 28,
     "metadata": {},
     "output_type": "execute_result"
    }
   ],
   "source": [
    "system = test_X\n",
    "for word in gazeteer:\n",
    "    system = system.replace(' ' + word.lower() + ' ', ' ' + word[0].upper() + word[1:] + ' ')\n",
    "evaluate(system, test_Y)"
   ]
  }
 ],
 "metadata": {
  "kernelspec": {
   "display_name": "Python 2",
   "language": "python",
   "name": "python2"
  },
  "language_info": {
   "codemirror_mode": {
    "name": "ipython",
    "version": 2
   },
   "file_extension": ".py",
   "mimetype": "text/x-python",
   "name": "python",
   "nbconvert_exporter": "python",
   "pygments_lexer": "ipython2",
   "version": "2.7.9"
  }
 },
 "nbformat": 4,
 "nbformat_minor": 0
}
