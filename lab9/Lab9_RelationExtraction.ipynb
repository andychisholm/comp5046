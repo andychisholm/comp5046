{
 "cells": [
  {
   "cell_type": "code",
   "execution_count": 50,
   "metadata": {
    "collapsed": true
   },
   "outputs": [],
   "source": [
    "import requests\n",
    "import json\n",
    "from collections import Counter, defaultdict\n",
    "from bs4 import BeautifulSoup\n",
    "from math import sqrt"
   ]
  },
  {
   "cell_type": "markdown",
   "metadata": {},
   "source": [
    "### Load the dataset"
   ]
  },
  {
   "cell_type": "code",
   "execution_count": 21,
   "metadata": {
    "collapsed": true
   },
   "outputs": [],
   "source": [
    "docs = []\n",
    "with open('entity_lists.multi_json') as f:\n",
    "    for line in f:\n",
    "        docs.append(json.loads(line))"
   ]
  },
  {
   "cell_type": "code",
   "execution_count": 26,
   "metadata": {
    "collapsed": false
   },
   "outputs": [
    {
     "data": {
      "text/plain": [
       "[u'url', u'headline', u'timestamp', u'entities']"
      ]
     },
     "execution_count": 26,
     "metadata": {},
     "output_type": "execute_result"
    }
   ],
   "source": [
    "docs[0].keys()"
   ]
  },
  {
   "cell_type": "markdown",
   "metadata": {},
   "source": [
    "### Count entity co-occurrence"
   ]
  },
  {
   "cell_type": "code",
   "execution_count": 42,
   "metadata": {
    "collapsed": false
   },
   "outputs": [],
   "source": [
    "occurrence = Counter()\n",
    "N = 0.\n",
    "for d in docs:\n",
    "    es = list(set(e['id'] for e in d['entities']))\n",
    "    N += len(es)\n",
    "    for i in xrange(len(es)):\n",
    "        for j in xrange(i, len(es)):\n",
    "            a, b = es[i], es[j]\n",
    "            if a < b:\n",
    "                a, b = b, a\n",
    "            occurrence[a,b] += 1\n",
    "            occurrence[a, a] += 1\n",
    "            occurrence[b, b] += 1"
   ]
  },
  {
   "cell_type": "markdown",
   "metadata": {},
   "source": [
    "### Use t-test to rank entity pairs"
   ]
  },
  {
   "cell_type": "code",
   "execution_count": 44,
   "metadata": {
    "collapsed": true
   },
   "outputs": [],
   "source": [
    "def t_test(c1, c2, c12, n):\n",
    "    p1 = c1 / n\n",
    "    p2 = c2 / n\n",
    "    p12 = c12 / n\n",
    "    return (p12 - p1 * p2) / sqrt(p12 / n)"
   ]
  },
  {
   "cell_type": "code",
   "execution_count": 45,
   "metadata": {
    "collapsed": false
   },
   "outputs": [],
   "source": [
    "scores = {}\n",
    "for a, b in occurrence.keys():\n",
    "    if a != b:\n",
    "        scores[a, b] = t_test(occurrence[a,a], occurrence[b,b], occurrence[a, b], N)"
   ]
  },
  {
   "cell_type": "markdown",
   "metadata": {},
   "source": [
    "### List the top related entity pairs"
   ]
  },
  {
   "cell_type": "code",
   "execution_count": 47,
   "metadata": {
    "collapsed": false
   },
   "outputs": [
    {
     "data": {
      "text/plain": [
       "[((u'Jelena Doki\\u0107', u'Dinara Safina'), 2.330584101453757),\n",
       " ((u'Sydney Business Chamber', u'Patricia Forsythe'), 2.1610823258623144),\n",
       " ((u'West Metro', u'Infrastructure Australia'), 2.104464521261935),\n",
       " ((u'HMAS Sydney (1912)', u'AS.34 Kormoran'), 2.057547197131716),\n",
       " ((u'West Metro', u'CBD Metro'), 2.0512912244487085),\n",
       " ((u'Paul McLeay', u'Eddie Obeid'), 2.000149801840159),\n",
       " ((u'Hassan Nasrallah', u'Beirut'), 1.9853310986479789),\n",
       " ((u'Quadrant Bus Station', u'Keith Windschuttle'), 1.9645132907757097),\n",
       " ((u'South Yarra, Victoria', u'Bob Jane'), 1.9541724725189658),\n",
       " ((u'The Chief-Leader', u'John Hartley (academic)'), 1.9405480724570368)]"
      ]
     },
     "execution_count": 47,
     "metadata": {},
     "output_type": "execute_result"
    }
   ],
   "source": [
    "sorted(scores.iteritems(), key=lambda (k, v): v, reverse=True)[:10]"
   ]
  },
  {
   "cell_type": "markdown",
   "metadata": {},
   "source": [
    "### List the least related entity pairs"
   ]
  },
  {
   "cell_type": "code",
   "execution_count": 57,
   "metadata": {
    "collapsed": false
   },
   "outputs": [
    {
     "data": {
      "text/plain": [
       "[((u'New South Wales', u'Gaza'), -383.4599267172421),\n",
       " ((u'Palestinian people', u'New South Wales'), -323.77019146410703),\n",
       " ((u'Mahmoud Abbas', u'Australia'), -273.1080886964633),\n",
       " ((u'New South Wales', u'Hamas'), -267.94862131942654),\n",
       " ((u'Gaza Strip', u'Australia'), -265.7657388589313),\n",
       " ((u'Sydney', u'Australia'), -260.269639592796),\n",
       " ((u'Hamas', u'Australia'), -253.0340493629753),\n",
       " ((u'Sydney', u'Middle East'), -250.0596262300864),\n",
       " ((u'Israel', u'Australia'), -240.87133407738432),\n",
       " ((u'Gaza', u'Australia'), -218.33396118000132)]"
      ]
     },
     "execution_count": 57,
     "metadata": {},
     "output_type": "execute_result"
    }
   ],
   "source": [
    "sorted(scores.iteritems(), key=lambda (k, v): v)[:10]"
   ]
  },
  {
   "cell_type": "markdown",
   "metadata": {},
   "source": [
    "### Construct an index of documents by entity ID"
   ]
  },
  {
   "cell_type": "code",
   "execution_count": 51,
   "metadata": {
    "collapsed": false
   },
   "outputs": [],
   "source": [
    "index = defaultdict(set)\n",
    "\n",
    "for d in docs:\n",
    "    es = list(set(e['id'] for e in d['entities']))\n",
    "    for e in es:\n",
    "        index[e].add(d['url'])"
   ]
  },
  {
   "cell_type": "code",
   "execution_count": 56,
   "metadata": {
    "collapsed": false
   },
   "outputs": [
    {
     "data": {
      "text/plain": [
       "{u'http://newsstore.smh.com.au/apps/viewDocument.ac?docID=SMH0901032K9AD5DVHTI',\n",
       " u'http://newsstore.smh.com.au/apps/viewDocument.ac?docID=SMH090120BM6DA4GSQJO',\n",
       " u'http://newsstore.smh.com.au/apps/viewDocument.ac?docID=SMH090121DJ3K657GT8J',\n",
       " u'http://newsstore.smh.com.au/apps/viewDocument.ac?docID=SMH090123FH2CI77TI9B',\n",
       " u'http://newsstore.smh.com.au/apps/viewDocument.ac?docID=SMH090124E847U50IPKH'}"
      ]
     },
     "execution_count": 56,
     "metadata": {},
     "output_type": "execute_result"
    }
   ],
   "source": [
    "index['HMAS Sydney (1912)'].intersection(index['AS.34 Kormoran'])"
   ]
  },
  {
   "cell_type": "code",
   "execution_count": null,
   "metadata": {
    "collapsed": true
   },
   "outputs": [],
   "source": []
  },
  {
   "cell_type": "code",
   "execution_count": null,
   "metadata": {
    "collapsed": true
   },
   "outputs": [],
   "source": []
  }
 ],
 "metadata": {
  "kernelspec": {
   "display_name": "Python 2",
   "language": "python",
   "name": "python2"
  },
  "language_info": {
   "codemirror_mode": {
    "name": "ipython",
    "version": 2
   },
   "file_extension": ".py",
   "mimetype": "text/x-python",
   "name": "python",
   "nbconvert_exporter": "python",
   "pygments_lexer": "ipython2",
   "version": "2.7.9"
  }
 },
 "nbformat": 4,
 "nbformat_minor": 0
}
